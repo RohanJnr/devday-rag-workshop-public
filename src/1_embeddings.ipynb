{
 "cells": [
  {
   "cell_type": "code",
   "execution_count": 2,
   "metadata": {},
   "outputs": [],
   "source": [
    "from langchain_huggingface.embeddings import HuggingFaceEmbeddings"
   ]
  },
  {
   "cell_type": "code",
   "execution_count": 4,
   "metadata": {},
   "outputs": [
    {
     "name": "stderr",
     "output_type": "stream",
     "text": [
      "/Users/alletirohanr/Library/Caches/pypoetry/virtualenvs/devday-user-Mow9uqej-py3.12/lib/python3.12/site-packages/tqdm/auto.py:21: TqdmWarning: IProgress not found. Please update jupyter and ipywidgets. See https://ipywidgets.readthedocs.io/en/stable/user_install.html\n",
      "  from .autonotebook import tqdm as notebook_tqdm\n"
     ]
    },
    {
     "name": "stdout",
     "output_type": "stream",
     "text": [
      "What do I eat ? / I am eating an apple\n",
      "0.6066775266238074\n",
      "What do I eat ? / I am consuming an orange\n",
      "0.5856431135623361\n",
      "What do I eat ? / I am using an apple iphone\n",
      "0.48300177514062576\n",
      "----------------------\n",
      "Whats the battery life ? / I am eating an apple\n",
      "0.4270040458561909\n",
      "Whats the battery life ? / I am consuming an orange\n",
      "0.41381751013067364\n",
      "Whats the battery life ? / I am using an apple iphone\n",
      "0.5377293283889374\n",
      "----------------------\n",
      "Which phone do you use ? / I am eating an apple\n",
      "0.3786971600959323\n",
      "Which phone do you use ? / I am consuming an orange\n",
      "0.37282078179779193\n",
      "Which phone do you use ? / I am using an apple iphone\n",
      "0.6178620285235072\n",
      "----------------------\n"
     ]
    }
   ],
   "source": [
    "model_name = \"BAAI/bge-large-en-v1.5\"\n",
    "embedding_model = HuggingFaceEmbeddings(\n",
    "    model_name=model_name,\n",
    ")\n",
    "apple = \"I am eating an apple\"\n",
    "orange = \"I am consuming an orange\"\n",
    "apple_iphone = \"I am using an apple iphone\"\n",
    "\n",
    "q1 = \"What do I eat ?\"\n",
    "q2 = \"Whats the battery life ?\"\n",
    "q3 = \"Which phone do you use ?\"\n",
    "\n",
    "questions = [q1, q2, q3]\n",
    "sample = [apple, orange, apple_iphone]\n",
    "\n",
    "questions_map = {q:embedding_model.embed_query(q) for q in questions}\n",
    "sample_map = {s:embedding_model.embed_query(s) for s in sample}\n",
    "\n",
    "\n",
    "import numpy as np\n",
    "from numpy.linalg import norm\n",
    "\n",
    "for q_text, q_embed in questions_map.items():\n",
    "    for s_text, s_embed in sample_map.items():\n",
    "        print(f\"{q_text} / {s_text}\")\n",
    "        cosine = np.dot(q_embed,s_embed)/(norm(q_embed)*norm(s_embed))    \n",
    "        print(cosine)    \n",
    "    print(\"----------------------\")\n"
   ]
  },
  {
   "cell_type": "code",
   "execution_count": null,
   "metadata": {},
   "outputs": [],
   "source": []
  }
 ],
 "metadata": {
  "kernelspec": {
   "display_name": "devday-user-Mow9uqej-py3.12",
   "language": "python",
   "name": "python3"
  },
  "language_info": {
   "codemirror_mode": {
    "name": "ipython",
    "version": 3
   },
   "file_extension": ".py",
   "mimetype": "text/x-python",
   "name": "python",
   "nbconvert_exporter": "python",
   "pygments_lexer": "ipython3",
   "version": "3.12.3"
  }
 },
 "nbformat": 4,
 "nbformat_minor": 2
}
